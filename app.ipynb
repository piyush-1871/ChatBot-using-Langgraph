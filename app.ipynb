{
 "cells": [
  {
   "cell_type": "markdown",
   "id": "f91f4c8d",
   "metadata": {},
   "source": [
    "## Customer Support Bot"
   ]
  },
  {
   "cell_type": "code",
   "execution_count": 27,
   "id": "e1dd6e35",
   "metadata": {},
   "outputs": [],
   "source": [
    "import os\n",
    "from dotenv import load_dotenv\n",
    "load_dotenv()\n",
    "os.environ[\"GROQ_API_KEY\"] = os.getenv('GROQ_KEY')"
   ]
  },
  {
   "cell_type": "code",
   "execution_count": 28,
   "id": "e9885c01",
   "metadata": {},
   "outputs": [],
   "source": [
    "os.environ[\"LANGCHAIN_API_KEY\"] = os.getenv('LANGCHAIN_API_KEY')\n",
    "os.environ[\"LANGCHAIN_TRACING_V2\"] = \"true\"\n",
    "os.environ[\"LANGSMITH_PROJECT\"] = \"ChatBot\""
   ]
  },
  {
   "cell_type": "code",
   "execution_count": 29,
   "id": "250dd63c",
   "metadata": {},
   "outputs": [],
   "source": [
    "from langchain.chat_models import init_chat_model\n",
    "\n",
    "model = init_chat_model(\"llama3-8b-8192\", model_provider=\"groq\")"
   ]
  },
  {
   "cell_type": "code",
   "execution_count": 30,
   "id": "57624d69",
   "metadata": {},
   "outputs": [],
   "source": [
    "from typing_extensions import TypedDict\n",
    "from langgraph.graph import StateGraph, END\n",
    "from langchain_core.prompts import ChatPromptTemplate\n",
    "from langchain_core.runnables.graph import MermaidDrawMethod\n",
    "from IPython.display import Image, display"
   ]
  },
  {
   "cell_type": "code",
   "execution_count": 31,
   "id": "6f25ad5d",
   "metadata": {},
   "outputs": [],
   "source": [
    "class State(TypedDict):\n",
    "    query: str\n",
    "    category: str\n",
    "    sentiment: str\n",
    "    response: str"
   ]
  },
  {
   "cell_type": "code",
   "execution_count": 32,
   "id": "9227e9ae",
   "metadata": {},
   "outputs": [],
   "source": [
    "llm = model"
   ]
  },
  {
   "cell_type": "code",
   "execution_count": 33,
   "id": "9e4bd8aa",
   "metadata": {},
   "outputs": [],
   "source": [
    "def categorize(state: State):\n",
    "    prompt = ChatPromptTemplate.from_template(\"Categorize the query into one of the following categories: Technical, Billing and General. Here's the query: {query}\")\n",
    "    chain = prompt | llm\n",
    "    category = chain.invoke({\"query\": state[\"query\"]}).content\n",
    "    print(\"Category: \", {category})\n",
    "    return {\"category\": category}\n",
    "\n",
    "def analyze_sentiment(state: State):\n",
    "    prompt = ChatPromptTemplate.from_template(\"Analyze the response of the customer query and answer in one word i.e. either positive, negative or neutral. The query is: {query}\")\n",
    "    chain = prompt | llm\n",
    "    sentiment = chain.invoke({\"query\": state[\"query\"]}).content\n",
    "    print(\"sentiment: \", {sentiment})\n",
    "    return {\"sentiment\": sentiment}\n",
    "\n",
    "def handle_technical(state: State):\n",
    "    prompt = ChatPromptTemplate.from_template(\"Provide a technical support response to the following query: {query}\")\n",
    "    chain = prompt | llm\n",
    "    response = chain.invoke({\"query\": state[\"query\"]}).content\n",
    "    print(\"response: \", {response})\n",
    "    return {\"response\": response}\n",
    "\n",
    "def handle_billing(state: State):\n",
    "    prompt = ChatPromptTemplate.from_template(\"Provide a billing support response to the following query: {query}\")\n",
    "    chain = prompt | llm\n",
    "    response = chain.invoke({\"query\": state[\"query\"]}).content\n",
    "    print(\"response: \", {response})\n",
    "    return {\"response\": response}\n",
    "\n",
    "def handle_general(state: State):\n",
    "    prompt = ChatPromptTemplate.from_template(\"Provide a general support response to the following query: {query}\")\n",
    "    chain = prompt | llm\n",
    "    response = chain.invoke({\"query\": state[\"query\"]}).content\n",
    "    print(\"response: \", {response})\n",
    "    return {\"response\": response}\n",
    "\n",
    "def escalate(state: State):\n",
    "    return {\"response\": \"This query has been forwarded to human agent due to negative sentiment.\"}\n",
    "\n",
    "def route_query(state: State):\n",
    "    if state[\"sentiment\"] == \"negative\":\n",
    "        return \"escalate\"\n",
    "    elif state[\"category\"] == \"technical\":\n",
    "        return \"handle_technical\"\n",
    "    elif state[\"category\"] == \"billing\":\n",
    "        return \"handle_billing\"\n",
    "    else:\n",
    "        return \"handle_general\""
   ]
  },
  {
   "cell_type": "code",
   "execution_count": 34,
   "id": "6a7b95a6",
   "metadata": {},
   "outputs": [],
   "source": [
    "workflow = StateGraph(State)\n",
    "\n",
    "workflow.add_node(\"categorize\", categorize)\n",
    "workflow.add_node(\"analyze_sentiment\", analyze_sentiment)\n",
    "workflow.add_node(\"handle_technical\", handle_technical)\n",
    "workflow.add_node(\"handle_billing\", handle_billing)\n",
    "workflow.add_node(\"handle_general\", handle_general)\n",
    "workflow.add_node(\"escalate\", escalate)\n",
    "\n",
    "# flow: categorize → analyze_sentiment → conditional handlers\n",
    "workflow.add_edge(\"categorize\", \"analyze_sentiment\")\n",
    "\n",
    "workflow.add_conditional_edges(\n",
    "    \"analyze_sentiment\",\n",
    "    route_query,\n",
    "    {\n",
    "        \"handle_technical\": \"handle_technical\",\n",
    "        \"handle_billing\": \"handle_billing\",\n",
    "        \"handle_general\": \"handle_general\",\n",
    "        \"escalate\": \"escalate\",\n",
    "    },\n",
    ")\n",
    "\n",
    "# handlers all end\n",
    "workflow.add_edge(\"handle_technical\", END)\n",
    "workflow.add_edge(\"handle_billing\", END)\n",
    "workflow.add_edge(\"handle_general\", END)\n",
    "workflow.add_edge(\"escalate\", END)\n",
    "\n",
    "workflow.set_entry_point(\"categorize\")\n",
    "\n",
    "app = workflow.compile()\n"
   ]
  },
  {
   "cell_type": "code",
   "execution_count": 35,
   "id": "618844d7",
   "metadata": {},
   "outputs": [
    {
     "data": {
      "image/png": "[encoded data removed]",
      "text/plain": [
       "<IPython.core.display.Image object>"
      ]
     },
     "metadata": {},
     "output_type": "display_data"
    }
   ],
   "source": [
    "from IPython.display import Image, display\n",
    "\n",
    "try:\n",
    "    display(Image(app.get_graph().draw_mermaid_png()))\n",
    "except Exception:\n",
    "    # This requires some extra dependencies and is optional\n",
    "    pass"
   ]
  },
  {
   "cell_type": "code",
   "execution_count": 36,
   "id": "7c9738d6",
   "metadata": {},
   "outputs": [],
   "source": [
    "def run_customer_support(query:str):\n",
    "    results = app.invoke({\"query\": query})\n",
    "    return {\n",
    "        \"category\": results['category'],\n",
    "        \"sentiment\": results[\"sentiment\"],\n",
    "        \"response\" : results[\"response\"]\n",
    "    }"
   ]
  },
  {
   "cell_type": "code",
   "execution_count": 37,
   "id": "e41db38b",
   "metadata": {},
   "outputs": [
    {
     "name": "stdout",
     "output_type": "stream",
     "text": [
      "Category:  {'I would categorize this query as \"Billing\".'}\n",
      "sentiment:  {'Negative'}\n",
      "response:  {\"I'm so sorry to hear that the price value in your bill is incorrect. Can you please provide me with more details about the issue you're experiencing? Here are a few questions to help me better understand the situation:\\n\\n* What is the correct price you were expecting to see on the bill?\\n* What is the incorrect price that is showing on the bill?\\n* Is this a one-time error or has this happened consistently with your orders?\\n* Have you received any discounts or promotions that may be affecting the price?\\n\\nOnce I have this information, I'll do my best to assist you in resolving the issue as quickly and efficiently as possible.\"}\n",
      "Query: The price value in my bill is wrong!\n",
      "Category: I would categorize this query as \"Billing\".\n",
      "Sentiment: Negative\n",
      "Response: I'm so sorry to hear that the price value in your bill is incorrect. Can you please provide me with more details about the issue you're experiencing? Here are a few questions to help me better understand the situation:\n",
      "\n",
      "* What is the correct price you were expecting to see on the bill?\n",
      "* What is the incorrect price that is showing on the bill?\n",
      "* Is this a one-time error or has this happened consistently with your orders?\n",
      "* Have you received any discounts or promotions that may be affecting the price?\n",
      "\n",
      "Once I have this information, I'll do my best to assist you in resolving the issue as quickly and efficiently as possible.\n"
     ]
    }
   ],
   "source": [
    "query = \"The price value in my bill is wrong!\"\n",
    "results = run_customer_support(query)\n",
    "print(f\"Query: {query}\")\n",
    "print(f\"Category: {results['category']}\")\n",
    "print(f\"Sentiment: {results['sentiment']}\")\n",
    "print(f\"Response: {results['response']}\")\n"
   ]
  },
  {
   "cell_type": "markdown",
   "id": "e5a14b25",
   "metadata": {},
   "source": [
    "## Chat Bot"
   ]
  },
  {
   "cell_type": "code",
   "execution_count": 38,
   "id": "da159e57",
   "metadata": {},
   "outputs": [],
   "source": [
    "from typing import Annotated\n",
    "\n",
    "from typing_extensions import TypedDict\n",
    "\n",
    "from langgraph.graph import StateGraph, START, END\n",
    "from langgraph.graph.message import add_messages\n",
    "\n",
    "\n",
    "class State(TypedDict):\n",
    "    messages: Annotated[list, add_messages]\n",
    "\n",
    "\n",
    "graph_builder = StateGraph(State)"
   ]
  },
  {
   "cell_type": "code",
   "execution_count": 39,
   "id": "83f05be0",
   "metadata": {},
   "outputs": [
    {
     "data": {
      "text/plain": [
       "<langgraph.graph.state.StateGraph at 0x1a7243c2750>"
      ]
     },
     "execution_count": 39,
     "metadata": {},
     "output_type": "execute_result"
    }
   ],
   "source": [
    "def chatbot(state: State):\n",
    "    return {\"messages\": [llm.invoke(state[\"messages\"])]}\n",
    "\n",
    "\n",
    "graph_builder.add_node(\"chatbot\", chatbot)"
   ]
  },
  {
   "cell_type": "code",
   "execution_count": 40,
   "id": "ccf48be8",
   "metadata": {},
   "outputs": [],
   "source": [
    "graph_builder.add_edge(START, \"chatbot\")\n",
    "graph_builder.add_edge(\"chatbot\", END)\n",
    "graph = graph_builder.compile()"
   ]
  },
  {
   "cell_type": "code",
   "execution_count": 41,
   "id": "33c987d1",
   "metadata": {},
   "outputs": [
    {
     "data": {
      "image/png": "[encoded data removed]",
      "text/plain": [
       "<IPython.core.display.Image object>"
      ]
     },
     "metadata": {},
     "output_type": "display_data"
    }
   ],
   "source": [
    "from IPython.display import Image, display\n",
    "\n",
    "try:\n",
    "    display(Image(graph.get_graph().draw_mermaid_png()))\n",
    "except Exception:\n",
    "    # This requires some extra dependencies and is optional\n",
    "    pass"
   ]
  },
  {
   "cell_type": "code",
   "execution_count": 42,
   "id": "e23838f0",
   "metadata": {},
   "outputs": [
    {
     "name": "stdout",
     "output_type": "stream",
     "text": [
      "Goodbye!\n"
     ]
    }
   ],
   "source": [
    "def stream_graph_updates(user_input: str):\n",
    "    for event in graph.stream({\"messages\": [{\"role\": \"user\", \"content\": user_input}]}):\n",
    "        for value in event.values():\n",
    "            print(\"Assistant:\", value[\"messages\"][-1].content)\n",
    "\n",
    "\n",
    "while True:\n",
    "    try:\n",
    "        user_input = input(\"User: \")\n",
    "        if user_input.lower() in [\"quit\", \"exit\", \"q\"]:\n",
    "            print(\"Goodbye!\")\n",
    "            break\n",
    "        stream_graph_updates(user_input)\n",
    "    except:\n",
    "        # fallback if input() is not available\n",
    "        user_input = \"What do you know about LangGraph?\"\n",
    "        print(\"User: \" + user_input)\n",
    "        stream_graph_updates(user_input)\n",
    "        break"
   ]
  },
  {
   "cell_type": "markdown",
   "id": "5877bc93",
   "metadata": {},
   "source": [
    "## Memory"
   ]
  },
  {
   "cell_type": "code",
   "execution_count": 43,
   "id": "2d46a674",
   "metadata": {},
   "outputs": [],
   "source": [
    "from langgraph.checkpoint.memory import InMemorySaver\n",
    "\n",
    "memory = InMemorySaver()"
   ]
  },
  {
   "cell_type": "code",
   "execution_count": 44,
   "id": "ae541588",
   "metadata": {},
   "outputs": [],
   "source": [
    "graph = graph_builder.compile(checkpointer=memory)"
   ]
  },
  {
   "cell_type": "code",
   "execution_count": 45,
   "id": "060666aa",
   "metadata": {},
   "outputs": [
    {
     "name": "stdout",
     "output_type": "stream",
     "text": [
      "Goodbye!\n"
     ]
    }
   ],
   "source": [
    "def stream_graph_updates(user_input: str):\n",
    "    for event in graph.stream({\"messages\": [{\"role\": \"user\", \"content\": user_input}]}, config = {\"configurable\": {\"thread_id\": \"1\"}}):\n",
    "        for value in event.values():\n",
    "            print(\"Assistant:\", value[\"messages\"][-1].content)\n",
    "\n",
    "\n",
    "while True:\n",
    "    try:\n",
    "        user_input = input(\"User: \")\n",
    "        if user_input.lower() in [\"quit\", \"exit\", \"q\"]:\n",
    "            print(\"Goodbye!\")\n",
    "            break\n",
    "        stream_graph_updates(user_input)\n",
    "    except:\n",
    "        # fallback if input() is not available\n",
    "        user_input = \"What do you know about LangGraph?\"\n",
    "        print(\"User: \" + user_input)\n",
    "        stream_graph_updates(user_input)\n",
    "        break"
   ]
  },
  {
   "cell_type": "markdown",
   "id": "0b128d2e",
   "metadata": {},
   "source": [
    "## Enhancing the chatbot with tools"
   ]
  },
  {
   "cell_type": "code",
   "execution_count": 46,
   "id": "142be0d1",
   "metadata": {},
   "outputs": [],
   "source": [
    "os.environ[\"TAVILY_API_KEY\"] = os.getenv('TAVILY_API_KEY')"
   ]
  },
  {
   "cell_type": "code",
   "execution_count": 47,
   "id": "1f9f5b00",
   "metadata": {},
   "outputs": [
    {
     "data": {
      "text/plain": [
       "{'query': \"What's a 'node' in LangGraph?\",\n",
       " 'follow_up_questions': None,\n",
       " 'answer': None,\n",
       " 'images': [],\n",
       " 'results': [{'url': 'https://www.ibm.com/think/topics/langgraph',\n",
       "   'title': 'What is LangGraph? - IBM',\n",
       "   'content': 'LangGraph, created by LangChain, is an open source AI agent framework designed to build, deploy and manage complex generative AI agent workflows. At its core, LangGraph uses the power of graph-based architectures to model and manage the intricate relationships between various components of an AI agent workflow. LangGraph illuminates the processes within an AI workflow, allowing full transparency of the agent’s state. By combining these technologies with a set of APIs and tools, LangGraph provides users with a versatile platform for developing AI solutions and workflows including chatbots, state graphs and other agent-based systems. **Nodes**: In LangGraph, nodes represent individual components or agents within an AI workflow. LangGraph uses enhanced decision-making by modeling complex relationships between nodes, which means it uses AI agents to analyze their past actions and feedback.',\n",
       "   'score': 0.9159971,\n",
       "   'raw_content': None},\n",
       "  {'url': 'https://www.ionio.ai/blog/a-comprehensive-guide-about-langgraph-code-included',\n",
       "   'title': 'A Comprehensive Guide About Langgraph: Code Included - Ionio',\n",
       "   'content': \"A node can be any function or tool your agent uses in langgraph and these nodes are connected with other nodes using edges. Every workflow ends with a “END”\\xa0...What is Langgraph?·Creating a Basic Workflow...·Mini Project: Let's Create a\",\n",
       "   'score': 0.86767644,\n",
       "   'raw_content': None}],\n",
       " 'response_time': 1.03,\n",
       " 'request_id': 'c9254583-53df-41a6-a24b-99fe8423a772'}"
      ]
     },
     "execution_count": 47,
     "metadata": {},
     "output_type": "execute_result"
    }
   ],
   "source": [
    "from langchain_tavily import TavilySearch\n",
    "\n",
    "tool = TavilySearch(max_results=2)\n",
    "tools = [tool]\n",
    "tool.invoke(\"What's a 'node' in LangGraph?\")"
   ]
  },
  {
   "cell_type": "markdown",
   "id": "915f88e2",
   "metadata": {},
   "source": [
    "## ChatBot with Memory and Tool"
   ]
  },
  {
   "cell_type": "code",
   "execution_count": 49,
   "id": "104dd101",
   "metadata": {},
   "outputs": [],
   "source": [
    "from typing import Annotated\n",
    "\n",
    "from langchain_tavily import TavilySearch\n",
    "from langchain_core.messages import BaseMessage\n",
    "from typing_extensions import TypedDict\n",
    "\n",
    "from langgraph.graph import StateGraph, START, END\n",
    "from langgraph.graph.message import add_messages\n",
    "from langgraph.prebuilt import ToolNode, tools_condition\n",
    "\n",
    "class State(TypedDict):\n",
    "    messages: Annotated[list, add_messages]\n",
    "\n",
    "graph_builder = StateGraph(State)\n",
    "\n",
    "tool = TavilySearch(max_results=2)\n",
    "tools = [tool]\n",
    "llm_with_tools = llm.bind_tools(tools)\n",
    "\n",
    "def chatbot(state: State):\n",
    "    return {\"messages\": [llm_with_tools.invoke(state[\"messages\"])]}\n",
    "\n",
    "graph_builder.add_node(\"chatbot\", chatbot)\n",
    "\n",
    "tool_node = ToolNode(tools=[tool])\n",
    "graph_builder.add_node(\"tools\", tool_node)\n",
    "\n",
    "graph_builder.add_conditional_edges(\n",
    "    \"chatbot\",\n",
    "    tools_condition,\n",
    ")\n",
    "# Any time a tool is called, we return to the chatbot to decide the next step\n",
    "graph_builder.add_edge(\"tools\", \"chatbot\")\n",
    "graph_builder.add_edge(START, \"chatbot\")\n",
    "graph = graph_builder.compile(checkpointer=memory)"
   ]
  },
  {
   "cell_type": "code",
   "execution_count": 50,
   "id": "72dfc34a",
   "metadata": {},
   "outputs": [
    {
     "data": {
      "image/png": "[encoded data removed]",
      "text/plain": [
       "<IPython.core.display.Image object>"
      ]
     },
     "metadata": {},
     "output_type": "display_data"
    }
   ],
   "source": [
    "from IPython.display import Image, display\n",
    "\n",
    "try:\n",
    "    display(Image(graph.get_graph().draw_mermaid_png()))\n",
    "except Exception:\n",
    "    # This requires some extra dependencies and is optional\n",
    "    pass"
   ]
  },
  {
   "cell_type": "code",
   "execution_count": 51,
   "id": "1898f346",
   "metadata": {},
   "outputs": [
    {
     "name": "stdout",
     "output_type": "stream",
     "text": [
      "Assistant: \n",
      "Assistant: {\"query\": \"latest news\", \"follow_up_questions\": null, \"answer\": null, \"images\": [], \"results\": [{\"url\": \"https://finance.yahoo.com/news/space-open-business-even-rogers-214500752.html\", \"title\": \"Space is open for business with Even Rogers and Max Haot at TechCrunch Disrupt 2025 - Yahoo Finance\", \"score\": 0.46482924, \"published_date\": \"Wed, 20 Aug 2025 22:43:01 GMT\", \"content\": \"9.   Breaking News • 12 hours ago Michael Fiddelke is Target's first new CEO since 2014. Here are his challenges.\\n    10.   News • 23 hours ago Intel is getting a $2 billion lifeline from SoftBank and could get more from Trump. But that may not be enough.\\n    11.   News • yesterday Bitcoin is barreling toward $200,000, analysts say. Here's why.\\n    12.   News • yesterday Palantir just extended its losing streak to 5 trading days. The slide reflects waning investor interest in Big Tech. [...] 31.   News • 4 days ago Nvidia's high-stakes earnings are just around the corner. Could Trump's new deal boost its outlook?\\n    32.   News • 4 days ago The Fed is expected to cut rates. But don't expect mortgage rates to follow\\n    33.   News • 4 days ago Coffee prices keep surging — and it’s likely to get worse. Here's why.\\n    34.   News • 4 days ago US economic data shows growth is moderating. That's the good news [...] 39.   News • 5 days ago Consumer sentiment fell for the first time in four months, as wary Americans grow more fearful of inflation rising\\n    40.   Breaking News • 5 days ago The Dow was eyeing its first record close since December, boosted by a surge in UnitedHealth shares\\n    41.   Breaking News • 5 days ago Trump says he will soon unveil tariffs on imports of semiconductors, hinting they could reach higher rates than previously suggested\", \"raw_content\": null}, {\"url\": \"https://dunyanews.tv/en/Business/902018-adb-approves-410m-financing-for-reko-diq-coppergold-mining-project\", \"title\": \"ADB approves $410m financing for Reko Diq copper-gold mining project - Dunya News\", \"score\": 0.3835264, \"published_date\": \"Fri, 22 Aug 2025 04:31:16 GMT\", \"content\": \"## US ramps up attack on international court over Israel, imposes new sanctions on four judges, prosecu...\\n\\nRead More >\\n\\n[2 comments]( NATO defense chiefs hold a virtual meeting on security guarantees for Ukraine\\n\\nRead More >\\n\\n[2 comments]( Nadeen Ayoub makes history as first Palestinian Miss Universe 2025 contestant\\n\\nRead More >\\n\\n[2 comments\\n\\n100%]( Heavy rain lashes Karachi, triggers widespread power outages\\n\\nRead More > [...] [2 comments]( Malnourished Gaza children facing death without aid, says UN\\n\\nRead More >\\n\\n[1 comments]( Pakistan, China vow to deepen cooperation and support on global, regional fronts\\n\\nRead More >\\n\\n[1 comments](\\n\\nNext →\\n\\n  \\n\\nInstall Dunya News Android App\\n\\n##### Dunya News\\n\\n##### English\\n\\nPakistan\\n World\\n Business\\n Cricket\\n Sports\\n Technology\\n\\nEntertainment\\n Health\\n\\n Crime\\n Weird\\n Fake News\\n\\n##### Urdu\\n\\nپاکستان\\n دنیا\\n تجارت\\n کرکٹ\\n کھیل\\n ٹیکنالوجی [...] ADB approves $410m financing for Reko Diq copper-gold mining project\\n\\n DUNYA NEWS\\n Videos\\n Shows\\n Live\\n\\n Home\\n Pakistan\\n World\\n Cricket\\n Entertainment\\n Business\\n Crime\\n Sports\\n Weird\\n Technology\\n Health\\n Fake News\\n Events Reporting\\n Dunya Digital\\n\\nOUR PICK\\n\\n Surging tourism is polluting Antarctica, scientists warn\\n Messi ruled out of Miami's Leagues Cup quarter-final v Tigres\\n UN chief urges immediate Gaza ceasefire, warns of casualties from Israeli operation\\n China's growing nuclear arsenal\", \"raw_content\": null}], \"response_time\": 0.91, \"request_id\": \"973ffc77-2d5b-46f0-b499-0efc26b1cd61\"}\n",
      "Assistant: Based on the tool call result, I can provide a direct response to the user's question.\n",
      "\n",
      "Here's a list of the latest news:\n",
      "\n",
      "* Space is open for business with Even Rogers and Max Haot at TechCrunch Disrupt 2025\n",
      "* Intel is getting a $2 billion lifeline from SoftBank and could get more from Trump. But that may not be enough.\n",
      "* Bitcoin is barreling toward $200,000, analysts say. Here's why.\n",
      "* Palantir just extended its losing streak to 5 trading days. The slide reflects waning investor interest in Big Tech.\n",
      "* Nvidia's high-stakes earnings are just around the corner. Could Trump's new deal boost its outlook?\n",
      "* The Fed is expected to cut rates. But don't expect mortgage rates to follow\n",
      "* Coffee prices keep surging — and it’s likely to get worse. Here's why.\n",
      "* US economic data shows growth is moderating. That's the good news\n",
      "* Consumer sentiment fell for the first time in four months, as wary Americans grow more fearful of inflation rising\n",
      "* The Dow was eyeing its first record close since December, boosted by a surge in UnitedHealth shares\n",
      "* Trump says he will soon unveil tariffs on imports of semiconductors, hinting they could reach higher rates than previously suggested\n",
      "\n",
      "Additionally, here's a news story from Dunya News:\n",
      "\n",
      "* ADB approves $410m financing for Reko Diq copper-gold mining project\n",
      "\n",
      "These are some of the latest news stories from around the world.\n",
      "Assistant: According to the tool call result, today's date is August 20, 2025.\n",
      "Assistant: I apologize for the mistake! Since today's date is August 27, 2025, I will use this information to provide a more accurate response.\n",
      "\n",
      "Here's a list of the latest news:\n",
      "\n",
      "* Space is open for business with Even Rogers and Max Haot at TechCrunch Disrupt 2025\n",
      "* Intel is getting a $2 billion lifeline from SoftBank and could get more from Trump. But that may not be enough.\n",
      "* Bitcoin is barreling toward $200,000, analysts say. Here's why.\n",
      "* Palantir just extended its losing streak to 5 trading days. The slide reflects waning investor interest in Big Tech.\n",
      "* Nvidia's high-stakes earnings are just around the corner. Could Trump's new deal boost its outlook?\n",
      "* The Fed is expected to cut rates. But don't expect mortgage rates to follow\n",
      "* Coffee prices keep surging — and it’s likely to get worse. Here's why.\n",
      "* US economic data shows growth is moderating. That's the good news\n",
      "* Consumer sentiment fell for the first time in four months, as wary Americans grow more fearful of inflation rising\n",
      "* The Dow was eyeing its first record close since December, boosted by a surge in UnitedHealth shares\n",
      "* Trump says he will soon unveil tariffs on imports of semiconductors, hinting they could reach higher rates than previously suggested\n",
      "\n",
      "Additionally, here's a news story from Dunya News:\n",
      "\n",
      "* ADB approves $410m financing for Reko Diq copper-gold mining project\n",
      "\n",
      "These are some of the latest news stories from around the world.\n",
      "Assistant: Based on the tool call result, here's the latest news story from August 27, 2025:\n",
      "\n",
      "* Consumer sentiment fell for the first time in four months, as wary Americans grow more fearful of inflation rising\n",
      "Goodbye!\n"
     ]
    }
   ],
   "source": [
    "def stream_graph_updates(user_input: str):\n",
    "    for event in graph.stream({\"messages\": [{\"role\": \"user\", \"content\": user_input}]}, config = {\"configurable\": {\"thread_id\": \"1\"}}):\n",
    "        for value in event.values():\n",
    "            print(\"Assistant:\", value[\"messages\"][-1].content)\n",
    "\n",
    "\n",
    "while True:\n",
    "    try:\n",
    "        user_input = input(\"User: \")\n",
    "        if user_input.lower() in [\"quit\", \"exit\", \"q\"]:\n",
    "            print(\"Goodbye!\")\n",
    "            break\n",
    "        stream_graph_updates(user_input)\n",
    "    except:\n",
    "        # fallback if input() is not available\n",
    "        user_input = \"What do you know about LangGraph?\"\n",
    "        print(\"User: \" + user_input)\n",
    "        stream_graph_updates(user_input)\n",
    "        break"
   ]
  },
  {
   "cell_type": "code",
   "execution_count": null,
   "id": "dd63ef49",
   "metadata": {},
   "outputs": [],
   "source": []
  },
  {
   "cell_type": "code",
   "execution_count": null,
   "id": "91a5e608",
   "metadata": {},
   "outputs": [],
   "source": []
  },
  {
   "cell_type": "code",
   "execution_count": null,
   "id": "eb5b9741",
   "metadata": {},
   "outputs": [],
   "source": []
  },
  {
   "cell_type": "code",
   "execution_count": null,
   "id": "e9f92be3",
   "metadata": {},
   "outputs": [],
   "source": []
  },
  {
   "cell_type": "code",
   "execution_count": null,
   "id": "7d43b9d7",
   "metadata": {},
   "outputs": [],
   "source": []
  },
  {
   "cell_type": "code",
   "execution_count": null,
   "id": "ebd0e966",
   "metadata": {},
   "outputs": [],
   "source": []
  },
  {
   "cell_type": "code",
   "execution_count": null,
   "id": "5ff1a9e1",
   "metadata": {},
   "outputs": [],
   "source": []
  }
 ],
 "metadata": {
  "kernelspec": {
   "display_name": "env",
   "language": "python",
   "name": "python3"
  },
  "language_info": {
   "codemirror_mode": {
    "name": "ipython",
    "version": 3
   },
   "file_extension": ".py",
   "mimetype": "text/x-python",
   "name": "python",
   "nbconvert_exporter": "python",
   "pygments_lexer": "ipython3",
   "version": "3.12.9"
  }
 },
 "nbformat": 4,
 "nbformat_minor": 5
}
